{
  "cells": [
    {
      "cell_type": "markdown",
      "metadata": {
        "id": "view-in-github",
        "colab_type": "text"
      },
      "source": [
        "<a href=\"https://colab.research.google.com/github/areola-joshua/Facie-Classification/blob/main/Python_Class_2.ipynb\" target=\"_parent\"><img src=\"https://colab.research.google.com/assets/colab-badge.svg\" alt=\"Open In Colab\"/></a>"
      ]
    },
    {
      "cell_type": "code",
      "execution_count": null,
      "id": "0b97f874",
      "metadata": {
        "id": "0b97f874",
        "outputId": "7d4504a0-b576-4504-de20-6a120fb32b7e"
      },
      "outputs": [
        {
          "name": "stdout",
          "output_type": "stream",
          "text": [
            "Hello World!\n"
          ]
        }
      ],
      "source": [
        "print('Hello World!')"
      ]
    },
    {
      "cell_type": "markdown",
      "id": "9011f6bb",
      "metadata": {
        "id": "9011f6bb"
      },
      "source": [
        "### 1. Variable"
      ]
    },
    {
      "cell_type": "code",
      "execution_count": null,
      "id": "fb6ebf0b",
      "metadata": {
        "id": "fb6ebf0b"
      },
      "outputs": [],
      "source": [
        "#Definition\n",
        "\n",
        "\"\"\"\n",
        "Variable are \"empty buckets\" which we assign value to and are otherwise saved in certain memory space. example below shows how\n",
        "to implement variable in python.\n",
        "\"\"\""
      ]
    },
    {
      "cell_type": "code",
      "execution_count": null,
      "id": "892f8e6c",
      "metadata": {
        "id": "892f8e6c"
      },
      "outputs": [],
      "source": [
        "a = 2"
      ]
    },
    {
      "cell_type": "code",
      "execution_count": null,
      "id": "0ffc3509",
      "metadata": {
        "id": "0ffc3509",
        "outputId": "a76a933a-77e7-4c4c-da9f-1b40f4e259f4"
      },
      "outputs": [
        {
          "name": "stdout",
          "output_type": "stream",
          "text": [
            "2\n"
          ]
        }
      ],
      "source": [
        "print(a)"
      ]
    },
    {
      "cell_type": "code",
      "execution_count": null,
      "id": "3fcc321b",
      "metadata": {
        "id": "3fcc321b"
      },
      "outputs": [],
      "source": [
        "b = 3"
      ]
    },
    {
      "cell_type": "code",
      "execution_count": null,
      "id": "87b79e66",
      "metadata": {
        "id": "87b79e66",
        "outputId": "f6bbbba0-b37e-49e2-c9b1-5ed93f144ff5"
      },
      "outputs": [
        {
          "data": {
            "text/plain": [
              "1"
            ]
          },
          "execution_count": 5,
          "metadata": {},
          "output_type": "execute_result"
        }
      ],
      "source": [
        "b-a"
      ]
    },
    {
      "cell_type": "markdown",
      "source": [
        "`Input Methods`"
      ],
      "metadata": {
        "id": "d9fmTrLRqJOd"
      },
      "id": "d9fmTrLRqJOd"
    },
    {
      "cell_type": "code",
      "execution_count": null,
      "id": "43f67c2c",
      "metadata": {
        "id": "43f67c2c",
        "outputId": "dbc4fb40-6607-4d26-d51b-0a2342ee3ea9"
      },
      "outputs": [
        {
          "name": "stdout",
          "output_type": "stream",
          "text": [
            "enter a number4\n",
            "the number you entered is  4\n",
            "2\n"
          ]
        }
      ],
      "source": [
        "c = input('enter a number')\n",
        "print('the number you entered is: ', c)\n",
        "\n",
        "d = int(c)\n",
        "e = d-a\n",
        "print(e)"
      ]
    },
    {
      "cell_type": "markdown",
      "source": [
        "New Line, Tabs in Python"
      ],
      "metadata": {
        "id": "YoLFS3ZlqbVD"
      },
      "id": "YoLFS3ZlqbVD"
    },
    {
      "cell_type": "code",
      "source": [
        "print('My name is \\n Areola Joshua')"
      ],
      "metadata": {
        "colab": {
          "base_uri": "https://localhost:8080/"
        },
        "id": "vXNFwLGbqWBD",
        "outputId": "0d0d5408-2111-4b4c-ba96-5186908da727"
      },
      "id": "vXNFwLGbqWBD",
      "execution_count": null,
      "outputs": [
        {
          "output_type": "stream",
          "name": "stdout",
          "text": [
            "My name is \n",
            " Areola Joshua\n"
          ]
        }
      ]
    },
    {
      "cell_type": "code",
      "source": [
        "print('My name is Areola \\t Joshua')"
      ],
      "metadata": {
        "colab": {
          "base_uri": "https://localhost:8080/"
        },
        "id": "cin9kBIjqwF5",
        "outputId": "1e47b51f-874d-4518-e348-4e48c63102e3"
      },
      "id": "cin9kBIjqwF5",
      "execution_count": null,
      "outputs": [
        {
          "output_type": "stream",
          "name": "stdout",
          "text": [
            "My name is Areola \t Joshua\n"
          ]
        }
      ]
    },
    {
      "cell_type": "markdown",
      "source": [],
      "metadata": {
        "id": "bbdgpIq9qkpU"
      },
      "id": "bbdgpIq9qkpU"
    },
    {
      "cell_type": "markdown",
      "id": "4ae477b8",
      "metadata": {
        "id": "4ae477b8"
      },
      "source": [
        "## commenting in Python"
      ]
    },
    {
      "cell_type": "markdown",
      "id": "7239cda7",
      "metadata": {
        "id": "7239cda7"
      },
      "source": [
        "######  As the name implies, as a proffesional, it is used to write the heading of a piece of code and also to outline a line of code while debbugging"
      ]
    },
    {
      "cell_type": "code",
      "execution_count": null,
      "id": "613c3f27",
      "metadata": {
        "id": "613c3f27",
        "outputId": "1d11ff64-827d-44df-8e0a-168cd0095526"
      },
      "outputs": [
        {
          "name": "stdout",
          "output_type": "stream",
          "text": [
            "3\n"
          ]
        },
        {
          "ename": "NameError",
          "evalue": "name 'b' is not defined",
          "output_type": "error",
          "traceback": [
            "\u001b[1;31m---------------------------------------------------------------------------\u001b[0m",
            "\u001b[1;31mNameError\u001b[0m                                 Traceback (most recent call last)",
            "Cell \u001b[1;32mIn[1], line 6\u001b[0m\n\u001b[0;32m      4\u001b[0m \u001b[38;5;66;03m#b = 4\u001b[39;00m\n\u001b[0;32m      5\u001b[0m \u001b[38;5;28mprint\u001b[39m(a)\n\u001b[1;32m----> 6\u001b[0m \u001b[38;5;28mprint\u001b[39m(\u001b[43mb\u001b[49m)\n",
            "\u001b[1;31mNameError\u001b[0m: name 'b' is not defined"
          ]
        }
      ],
      "source": [
        "# this is a comment...this line doesn't run even in codes. e.g.\n",
        "\n",
        "a = 3\n",
        "#b = 4\n",
        "print(a)\n",
        "print(b)"
      ]
    },
    {
      "cell_type": "code",
      "execution_count": null,
      "id": "49e7f7ca",
      "metadata": {
        "id": "49e7f7ca"
      },
      "outputs": [],
      "source": [
        "\"\"\"\n",
        "Multi line comment, this won't run too\n",
        "\"\"\""
      ]
    },
    {
      "cell_type": "markdown",
      "id": "16d5e007",
      "metadata": {
        "id": "16d5e007"
      },
      "source": [
        "### Variable"
      ]
    },
    {
      "cell_type": "code",
      "execution_count": null,
      "id": "53d10221",
      "metadata": {
        "collapsed": true,
        "id": "53d10221",
        "outputId": "b7091074-9f55-49e0-9dca-7a0342f7db75"
      },
      "outputs": [
        {
          "data": {
            "text/plain": [
              "'\\n1. variable does not start with number e.g 2num\\n2. let your naming be conversant with the code or function you intended\\n3. variable naming in python is case sensitive. i.e, Same is not same\\n'"
            ]
          },
          "execution_count": 13,
          "metadata": {},
          "output_type": "execute_result"
        }
      ],
      "source": [
        "# Variable Rules\n",
        "\n",
        "\"\"\"\n",
        "1. variable does not start with number e.g 2num\n",
        "2. let your naming be conversant with the code or function you intended\n",
        "3. variable naming in python is case sensitive. i.e, Same is not same\n",
        "4. well, your variable naming can be as long as 225 characters\n",
        "\"\"\""
      ]
    },
    {
      "cell_type": "markdown",
      "id": "92256d05",
      "metadata": {
        "id": "92256d05"
      },
      "source": [
        "### Python as a Calcilator"
      ]
    },
    {
      "cell_type": "code",
      "execution_count": null,
      "id": "f5542886",
      "metadata": {
        "id": "f5542886"
      },
      "outputs": [],
      "source": [
        "\"\"\"\n",
        "Mathematical operators in Python include:\n",
        "- Addition +\n",
        "- Subtraction -\n",
        "- Multiplication *\n",
        "- Division:\n",
        "            -Normal /\n",
        "            -Modulus %\n",
        "            -Double line //\n",
        "\"\"\""
      ]
    },
    {
      "cell_type": "code",
      "execution_count": null,
      "id": "79f484f8",
      "metadata": {
        "id": "79f484f8"
      },
      "outputs": [],
      "source": [
        "a = 2\n",
        "b = 3"
      ]
    },
    {
      "cell_type": "code",
      "execution_count": null,
      "id": "81e11653",
      "metadata": {
        "id": "81e11653",
        "outputId": "80d2a2d5-4f76-4be1-8452-c2b9a2ac8897"
      },
      "outputs": [
        {
          "data": {
            "text/plain": [
              "5"
            ]
          },
          "execution_count": 2,
          "metadata": {},
          "output_type": "execute_result"
        }
      ],
      "source": [
        "a + b"
      ]
    },
    {
      "cell_type": "code",
      "execution_count": null,
      "id": "2e4b4a1c",
      "metadata": {
        "id": "2e4b4a1c",
        "outputId": "c255c023-8e9c-45f9-ac17-2962c795893d"
      },
      "outputs": [
        {
          "data": {
            "text/plain": [
              "1"
            ]
          },
          "execution_count": 3,
          "metadata": {},
          "output_type": "execute_result"
        }
      ],
      "source": [
        "b - a"
      ]
    },
    {
      "cell_type": "code",
      "execution_count": null,
      "id": "0325070e",
      "metadata": {
        "id": "0325070e",
        "outputId": "7a0f4efd-50a2-4d45-aac7-aaa78c0a6b15"
      },
      "outputs": [
        {
          "name": "stdout",
          "output_type": "stream",
          "text": [
            "a multiplied by b is  6\n"
          ]
        }
      ],
      "source": [
        "print('a multiplied by b is ',a*b)"
      ]
    },
    {
      "cell_type": "code",
      "execution_count": null,
      "id": "b5771f20",
      "metadata": {
        "id": "b5771f20"
      },
      "outputs": [],
      "source": [
        "# Run the below code on your Jupyter, or vscode, Pycharm or Pydroid"
      ]
    },
    {
      "cell_type": "code",
      "execution_count": null,
      "id": "49ddccb9",
      "metadata": {
        "id": "49ddccb9"
      },
      "outputs": [],
      "source": [
        "num1 = int(input('enter first value: '))\n",
        "num2 = int(input('enter second value: '))\n",
        "\n",
        "#lets do some arithmetics\n",
        "c = num1 + num2\n",
        "d = num1 - num2\n",
        "e = num1 / num2\n",
        "f = num1 // num2 # watch this output, what do you notice\n",
        "g = num1 % num2  # and this too\n",
        "h = num1 * num2"
      ]
    },
    {
      "cell_type": "code",
      "execution_count": null,
      "id": "b60b7262",
      "metadata": {
        "id": "b60b7262"
      },
      "outputs": [],
      "source": [
        "# A Calculator--simple"
      ]
    },
    {
      "cell_type": "code",
      "execution_count": null,
      "id": "0447af23",
      "metadata": {
        "id": "0447af23"
      },
      "outputs": [],
      "source": [
        "num1 = int(input('enter first value: '))\n",
        "operator = input('enter you operator: ')\n",
        "num2 = int(input('enter second value: '))\n",
        "\n",
        "if operator == '+':\n",
        "    print(num1 + num2)\n",
        "elif operator == '-':\n",
        "    print(num1 - num2)\n",
        "elif operator == '/':\n",
        "    print(num1 / num2)\n",
        "elif operator == '*':\n",
        "    print(num1 * num2)\n",
        "else:\n",
        "    print('invalid input')"
      ]
    },
    {
      "cell_type": "code",
      "execution_count": null,
      "id": "2731cb87",
      "metadata": {
        "id": "2731cb87"
      },
      "outputs": [],
      "source": [
        "# A Calculator--medium"
      ]
    },
    {
      "cell_type": "code",
      "execution_count": null,
      "id": "5acd4c53",
      "metadata": {
        "id": "5acd4c53"
      },
      "outputs": [],
      "source": [
        "num1 = int(input('enter first value: '))\n",
        "operator = input('enter you operator: ')\n",
        "num2 = int(input('enter second value: '))\n",
        "\n",
        "\n",
        "if num1 and num2 != 0:   #zero division\n",
        "    if operator == '+':\n",
        "        print(num1 + num2)\n",
        "    elif operator == '-':\n",
        "        print(num1 - num2)\n",
        "    elif operator == '/':\n",
        "        print(num1 / num2)\n",
        "    elif operator == '*':\n",
        "        print(num1 * num2)\n",
        "    else:\n",
        "        print('invalid input')\n",
        "else:\n",
        "    print('invalid number to operate')"
      ]
    },
    {
      "cell_type": "code",
      "execution_count": null,
      "id": "22504176",
      "metadata": {
        "id": "22504176"
      },
      "outputs": [],
      "source": [
        "# A Calculator--proffessional"
      ]
    },
    {
      "cell_type": "code",
      "execution_count": null,
      "id": "d04b6c27",
      "metadata": {
        "id": "d04b6c27"
      },
      "outputs": [],
      "source": [
        "from math import *\n",
        "\n",
        "num1 = int(input('enter first value: '))\n",
        "operator = input('enter you operator: ')\n",
        "num2 = int(input('enter second value: '))\n",
        "\n",
        "\n",
        "if num1 and num2 != 0:  #Zero division\n",
        "    if operator == '+':\n",
        "        print(num1 + num2)\n",
        "    elif operator == '-':\n",
        "        print(num1 - num2)\n",
        "    elif operator == '/':\n",
        "        print(num1 / num2)\n",
        "    elif operator == '*':\n",
        "        print(num1 * num2)\n",
        "    elif operator == 'sin':\n",
        "        print(sin(num1), sin(num2))\n",
        "    elif operator == 'cos':\n",
        "        print(cos(num1), cos(num2))\n",
        "    elif operator == 'tan':\n",
        "        print(tan(num1), tan(num2))\n",
        "    else:\n",
        "        print('invalid input')\n",
        "else:\n",
        "    print('invalid number to operate')"
      ]
    },
    {
      "cell_type": "markdown",
      "id": "7ae18242",
      "metadata": {
        "id": "7ae18242"
      },
      "source": [
        "### Relation Operators"
      ]
    },
    {
      "cell_type": "code",
      "execution_count": null,
      "id": "587e30fc",
      "metadata": {
        "id": "587e30fc"
      },
      "outputs": [],
      "source": [
        "\"\"\"\n",
        "This include:\n",
        "- Boolean - True and False\n",
        "- Greater than >\n",
        "- Lesser than <\n",
        "- Equality ==\n",
        "- Greater and Equals to >=\n",
        "- Lesser and Equals to <=\n",
        "- Not Equals to !=\n",
        "\"\"\""
      ]
    },
    {
      "cell_type": "markdown",
      "source": [
        "Range in Python"
      ],
      "metadata": {
        "id": "KzSooczMq8MR"
      },
      "id": "KzSooczMq8MR"
    },
    {
      "cell_type": "markdown",
      "source": [
        "- **Range** is a type of generator in Programming Languages, including Python. It is used to *generate* numbers between given value intervals, you can check range by typing: `dir(range)`, you can also check **range** by typing `range?` or `help(range)`.\n",
        "\n",
        "Below are some lines of code to show you how **Range** is being called or used."
      ],
      "metadata": {
        "id": "J8oL6XhOrFcR"
      },
      "id": "J8oL6XhOrFcR"
    },
    {
      "cell_type": "code",
      "source": [
        "range(10) #By default it starts counting from zero"
      ],
      "metadata": {
        "colab": {
          "base_uri": "https://localhost:8080/"
        },
        "id": "DsRBZ7VbrDVw",
        "outputId": "095dab35-6f66-4806-cf05-9bf9fbc79657"
      },
      "id": "DsRBZ7VbrDVw",
      "execution_count": null,
      "outputs": [
        {
          "output_type": "execute_result",
          "data": {
            "text/plain": [
              "range(0, 10)"
            ]
          },
          "metadata": {},
          "execution_count": 4
        }
      ]
    },
    {
      "cell_type": "code",
      "source": [
        "#to get the values type this:\n",
        "list(range(10))"
      ],
      "metadata": {
        "colab": {
          "base_uri": "https://localhost:8080/"
        },
        "id": "xdSPKGTusVIH",
        "outputId": "3cef4cfd-edc5-4e0c-c69a-68cef567b122"
      },
      "id": "xdSPKGTusVIH",
      "execution_count": null,
      "outputs": [
        {
          "output_type": "execute_result",
          "data": {
            "text/plain": [
              "[0, 1, 2, 3, 4, 5, 6, 7, 8, 9]"
            ]
          },
          "metadata": {},
          "execution_count": 5
        }
      ]
    },
    {
      "cell_type": "code",
      "source": [
        "#It should have been like this:\n",
        "list(range(0, 10)) #Here 0 - start,  10-stop"
      ],
      "metadata": {
        "colab": {
          "base_uri": "https://localhost:8080/"
        },
        "id": "o2U-XnqIsc5V",
        "outputId": "15aaa629-0c44-47c9-d1f0-719ae7cab785"
      },
      "id": "o2U-XnqIsc5V",
      "execution_count": null,
      "outputs": [
        {
          "output_type": "execute_result",
          "data": {
            "text/plain": [
              "[0, 1, 2, 3, 4, 5, 6, 7, 8, 9]"
            ]
          },
          "metadata": {},
          "execution_count": 6
        }
      ]
    },
    {
      "cell_type": "code",
      "source": [
        "#let's try this again:\n",
        "list(range(3, 15))"
      ],
      "metadata": {
        "colab": {
          "base_uri": "https://localhost:8080/"
        },
        "id": "ej8p4aP6sodm",
        "outputId": "5ff3f224-622c-4866-e844-85565be48bc6"
      },
      "id": "ej8p4aP6sodm",
      "execution_count": null,
      "outputs": [
        {
          "output_type": "execute_result",
          "data": {
            "text/plain": [
              "[3, 4, 5, 6, 7, 8, 9, 10, 11, 12, 13, 14]"
            ]
          },
          "metadata": {},
          "execution_count": 9
        }
      ]
    },
    {
      "cell_type": "code",
      "source": [
        "#Good, Lets move forward:\n",
        "list(range(0, 20, 2)) #Here, 0-start   20-stop,   2-step"
      ],
      "metadata": {
        "colab": {
          "base_uri": "https://localhost:8080/"
        },
        "id": "sBSk3ctwsxXj",
        "outputId": "5cf1aa11-3de1-4441-a87c-7b013c5ac29e"
      },
      "id": "sBSk3ctwsxXj",
      "execution_count": null,
      "outputs": [
        {
          "output_type": "execute_result",
          "data": {
            "text/plain": [
              "[0, 2, 4, 6, 8, 10, 12, 14, 16, 18]"
            ]
          },
          "metadata": {},
          "execution_count": 10
        }
      ]
    },
    {
      "cell_type": "code",
      "source": [
        "from math import pi   #using pi from maths Module or simply maths Library\n",
        "import numpy as np  #importing another library thas has pi"
      ],
      "metadata": {
        "id": "HNv8nkIItQ5O"
      },
      "id": "HNv8nkIItQ5O",
      "execution_count": null,
      "outputs": []
    },
    {
      "cell_type": "code",
      "source": [
        "pi  #Most of us knew pi to be 3.1415..."
      ],
      "metadata": {
        "colab": {
          "base_uri": "https://localhost:8080/"
        },
        "id": "bEjKSwB6tpb6",
        "outputId": "eb81fc6f-f7d7-41d8-d0d3-06f88d3570fa"
      },
      "id": "bEjKSwB6tpb6",
      "execution_count": null,
      "outputs": [
        {
          "output_type": "execute_result",
          "data": {
            "text/plain": [
              "3.141592653589793"
            ]
          },
          "metadata": {},
          "execution_count": 12
        }
      ]
    },
    {
      "cell_type": "code",
      "source": [
        "sin_range = np.linspace(0, pi, 50)  #linspace also works like range---wonderful, isn't it?"
      ],
      "metadata": {
        "id": "HlgUf2-Atf5K"
      },
      "id": "HlgUf2-Atf5K",
      "execution_count": null,
      "outputs": []
    },
    {
      "cell_type": "code",
      "source": [
        "sin_range"
      ],
      "metadata": {
        "colab": {
          "base_uri": "https://localhost:8080/"
        },
        "id": "DGFyuZwat0dL",
        "outputId": "49107e66-4130-4c04-9a32-5325ce9a5046"
      },
      "id": "DGFyuZwat0dL",
      "execution_count": null,
      "outputs": [
        {
          "output_type": "execute_result",
          "data": {
            "text/plain": [
              "array([0.        , 0.06411414, 0.12822827, 0.19234241, 0.25645654,\n",
              "       0.32057068, 0.38468481, 0.44879895, 0.51291309, 0.57702722,\n",
              "       0.64114136, 0.70525549, 0.76936963, 0.83348377, 0.8975979 ,\n",
              "       0.96171204, 1.02582617, 1.08994031, 1.15405444, 1.21816858,\n",
              "       1.28228272, 1.34639685, 1.41051099, 1.47462512, 1.53873926,\n",
              "       1.60285339, 1.66696753, 1.73108167, 1.7951958 , 1.85930994,\n",
              "       1.92342407, 1.98753821, 2.05165235, 2.11576648, 2.17988062,\n",
              "       2.24399475, 2.30810889, 2.37222302, 2.43633716, 2.5004513 ,\n",
              "       2.56456543, 2.62867957, 2.6927937 , 2.75690784, 2.82102197,\n",
              "       2.88513611, 2.94925025, 3.01336438, 3.07747852, 3.14159265])"
            ]
          },
          "metadata": {},
          "execution_count": 18
        }
      ]
    },
    {
      "cell_type": "code",
      "source": [],
      "metadata": {
        "id": "IZOdfcr0ucsd"
      },
      "id": "IZOdfcr0ucsd",
      "execution_count": null,
      "outputs": []
    },
    {
      "cell_type": "markdown",
      "source": [
        "**Enumerate** in Python"
      ],
      "metadata": {
        "id": "h-tOi5ZfTEXZ"
      },
      "id": "h-tOi5ZfTEXZ"
    },
    {
      "cell_type": "code",
      "source": [
        "name = ['Areola', 'Joshua']"
      ],
      "metadata": {
        "id": "UVVgTYs4TL5w"
      },
      "id": "UVVgTYs4TL5w",
      "execution_count": 1,
      "outputs": []
    },
    {
      "cell_type": "code",
      "source": [
        "for i in enumerate(name):\n",
        "  print(i)"
      ],
      "metadata": {
        "colab": {
          "base_uri": "https://localhost:8080/"
        },
        "id": "FuzcYDRyTQgD",
        "outputId": "c2fa73d7-83b7-44b8-a091-70fc1671656c"
      },
      "id": "FuzcYDRyTQgD",
      "execution_count": 3,
      "outputs": [
        {
          "output_type": "stream",
          "name": "stdout",
          "text": [
            "(0, 'Areola')\n",
            "(1, 'Joshua')\n"
          ]
        }
      ]
    },
    {
      "cell_type": "code",
      "source": [
        "# From here, we see the function of enumerate as it shows the position of items in a list, another example:"
      ],
      "metadata": {
        "id": "hib6cxhBTcCP"
      },
      "id": "hib6cxhBTcCP",
      "execution_count": 5,
      "outputs": []
    },
    {
      "cell_type": "code",
      "source": [
        "i = range(20)\n",
        "for j in enumerate(i):\n",
        "  print(j)"
      ],
      "metadata": {
        "colab": {
          "base_uri": "https://localhost:8080/"
        },
        "id": "olEp1QAlTpFQ",
        "outputId": "580d5375-922b-4b6a-cb2c-a35373c2ec42"
      },
      "id": "olEp1QAlTpFQ",
      "execution_count": 7,
      "outputs": [
        {
          "output_type": "stream",
          "name": "stdout",
          "text": [
            "(0, 0)\n",
            "(1, 1)\n",
            "(2, 2)\n",
            "(3, 3)\n",
            "(4, 4)\n",
            "(5, 5)\n",
            "(6, 6)\n",
            "(7, 7)\n",
            "(8, 8)\n",
            "(9, 9)\n",
            "(10, 10)\n",
            "(11, 11)\n",
            "(12, 12)\n",
            "(13, 13)\n",
            "(14, 14)\n",
            "(15, 15)\n",
            "(16, 16)\n",
            "(17, 17)\n",
            "(18, 18)\n",
            "(19, 19)\n"
          ]
        }
      ]
    },
    {
      "cell_type": "code",
      "source": [
        "alp = ['a', 'b', 'c', 'd', 'e']\n",
        "\n",
        "for i in enumerate(alp):\n",
        "\n",
        "  print(i)"
      ],
      "metadata": {
        "colab": {
          "base_uri": "https://localhost:8080/"
        },
        "id": "Pv8S_YG1T92k",
        "outputId": "03faefda-377f-4d61-f4a2-3ba3c32070b4"
      },
      "id": "Pv8S_YG1T92k",
      "execution_count": 9,
      "outputs": [
        {
          "output_type": "stream",
          "name": "stdout",
          "text": [
            "(0, 'a')\n",
            "(1, 'b')\n",
            "(2, 'c')\n",
            "(3, 'd')\n",
            "(4, 'e')\n"
          ]
        }
      ]
    },
    {
      "cell_type": "code",
      "source": [],
      "metadata": {
        "id": "PNBKVlp0UcD9"
      },
      "id": "PNBKVlp0UcD9",
      "execution_count": null,
      "outputs": []
    }
  ],
  "metadata": {
    "kernelspec": {
      "display_name": "Python 3 (ipykernel)",
      "language": "python",
      "name": "python3"
    },
    "language_info": {
      "codemirror_mode": {
        "name": "ipython",
        "version": 3
      },
      "file_extension": ".py",
      "mimetype": "text/x-python",
      "name": "python",
      "nbconvert_exporter": "python",
      "pygments_lexer": "ipython3",
      "version": "3.10.13"
    },
    "colab": {
      "provenance": [],
      "include_colab_link": true
    }
  },
  "nbformat": 4,
  "nbformat_minor": 5
}